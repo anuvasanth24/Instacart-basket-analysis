{
 "cells": [
  {
   "cell_type": "code",
   "execution_count": 1,
   "metadata": {
    "collapsed": true
   },
   "outputs": [],
   "source": [
    "import numpy as np\n",
    "import pandas as pd\n"
   ]
  },
  {
   "cell_type": "code",
   "execution_count": 2,
   "metadata": {
    "collapsed": true
   },
   "outputs": [],
   "source": [
    "dataDir = '/Users/anupama/Documents/Instacart/'"
   ]
  },
  {
   "cell_type": "code",
   "execution_count": 3,
   "metadata": {},
   "outputs": [
    {
     "data": {
      "text/html": [
       "<div>\n",
       "<style scoped>\n",
       "    .dataframe tbody tr th:only-of-type {\n",
       "        vertical-align: middle;\n",
       "    }\n",
       "\n",
       "    .dataframe tbody tr th {\n",
       "        vertical-align: top;\n",
       "    }\n",
       "\n",
       "    .dataframe thead th {\n",
       "        text-align: right;\n",
       "    }\n",
       "</style>\n",
       "<table border=\"1\" class=\"dataframe\">\n",
       "  <thead>\n",
       "    <tr style=\"text-align: right;\">\n",
       "      <th></th>\n",
       "      <th>order_id</th>\n",
       "      <th>product_id</th>\n",
       "      <th>add_to_cart_order</th>\n",
       "      <th>reordered</th>\n",
       "    </tr>\n",
       "  </thead>\n",
       "  <tbody>\n",
       "    <tr>\n",
       "      <th>0</th>\n",
       "      <td>2</td>\n",
       "      <td>33120</td>\n",
       "      <td>1</td>\n",
       "      <td>1</td>\n",
       "    </tr>\n",
       "  </tbody>\n",
       "</table>\n",
       "</div>"
      ],
      "text/plain": [
       "   order_id  product_id  add_to_cart_order  reordered\n",
       "0         2       33120                  1          1"
      ]
     },
     "execution_count": 3,
     "metadata": {},
     "output_type": "execute_result"
    }
   ],
   "source": [
    "priors = pd.read_csv(dataDir + 'order_products__prior.csv')\n",
    "priors[:1]"
   ]
  },
  {
   "cell_type": "code",
   "execution_count": 4,
   "metadata": {},
   "outputs": [
    {
     "data": {
      "text/html": [
       "<div>\n",
       "<style scoped>\n",
       "    .dataframe tbody tr th:only-of-type {\n",
       "        vertical-align: middle;\n",
       "    }\n",
       "\n",
       "    .dataframe tbody tr th {\n",
       "        vertical-align: top;\n",
       "    }\n",
       "\n",
       "    .dataframe thead th {\n",
       "        text-align: right;\n",
       "    }\n",
       "</style>\n",
       "<table border=\"1\" class=\"dataframe\">\n",
       "  <thead>\n",
       "    <tr style=\"text-align: right;\">\n",
       "      <th></th>\n",
       "      <th>order_id</th>\n",
       "      <th>product_id</th>\n",
       "      <th>add_to_cart_order</th>\n",
       "      <th>reordered</th>\n",
       "    </tr>\n",
       "  </thead>\n",
       "  <tbody>\n",
       "    <tr>\n",
       "      <th>0</th>\n",
       "      <td>1</td>\n",
       "      <td>49302</td>\n",
       "      <td>1</td>\n",
       "      <td>1</td>\n",
       "    </tr>\n",
       "  </tbody>\n",
       "</table>\n",
       "</div>"
      ],
      "text/plain": [
       "   order_id  product_id  add_to_cart_order  reordered\n",
       "0         1       49302                  1          1"
      ]
     },
     "execution_count": 4,
     "metadata": {},
     "output_type": "execute_result"
    }
   ],
   "source": [
    "train = pd.read_csv(dataDir + 'order_products__train.csv')\n",
    "train[:1]"
   ]
  },
  {
   "cell_type": "code",
   "execution_count": 5,
   "metadata": {},
   "outputs": [
    {
     "data": {
      "text/html": [
       "<div>\n",
       "<style scoped>\n",
       "    .dataframe tbody tr th:only-of-type {\n",
       "        vertical-align: middle;\n",
       "    }\n",
       "\n",
       "    .dataframe tbody tr th {\n",
       "        vertical-align: top;\n",
       "    }\n",
       "\n",
       "    .dataframe thead th {\n",
       "        text-align: right;\n",
       "    }\n",
       "</style>\n",
       "<table border=\"1\" class=\"dataframe\">\n",
       "  <thead>\n",
       "    <tr style=\"text-align: right;\">\n",
       "      <th></th>\n",
       "      <th>order_id</th>\n",
       "      <th>product_id</th>\n",
       "      <th>add_to_cart_order</th>\n",
       "      <th>reordered</th>\n",
       "    </tr>\n",
       "  </thead>\n",
       "  <tbody>\n",
       "    <tr>\n",
       "      <th>0</th>\n",
       "      <td>2</td>\n",
       "      <td>33120</td>\n",
       "      <td>1</td>\n",
       "      <td>1</td>\n",
       "    </tr>\n",
       "  </tbody>\n",
       "</table>\n",
       "</div>"
      ],
      "text/plain": [
       "   order_id  product_id  add_to_cart_order  reordered\n",
       "0         2       33120                  1          1"
      ]
     },
     "execution_count": 5,
     "metadata": {},
     "output_type": "execute_result"
    }
   ],
   "source": [
    "frames=[priors, train]\n",
    "prior_train = pd.concat(frames, ignore_index=True)\n",
    "prior_train[:1]"
   ]
  },
  {
   "cell_type": "code",
   "execution_count": 6,
   "metadata": {},
   "outputs": [],
   "source": [
    "orders = pd.read_csv(dataDir + 'orders.csv')\n"
   ]
  },
  {
   "cell_type": "code",
   "execution_count": 7,
   "metadata": {},
   "outputs": [
    {
     "data": {
      "text/html": [
       "<div>\n",
       "<style scoped>\n",
       "    .dataframe tbody tr th:only-of-type {\n",
       "        vertical-align: middle;\n",
       "    }\n",
       "\n",
       "    .dataframe tbody tr th {\n",
       "        vertical-align: top;\n",
       "    }\n",
       "\n",
       "    .dataframe thead th {\n",
       "        text-align: right;\n",
       "    }\n",
       "</style>\n",
       "<table border=\"1\" class=\"dataframe\">\n",
       "  <thead>\n",
       "    <tr style=\"text-align: right;\">\n",
       "      <th></th>\n",
       "      <th>order_id</th>\n",
       "      <th>user_id</th>\n",
       "      <th>eval_set</th>\n",
       "      <th>order_number</th>\n",
       "      <th>order_dow</th>\n",
       "      <th>order_hour_of_day</th>\n",
       "      <th>days_since_prior_order</th>\n",
       "    </tr>\n",
       "  </thead>\n",
       "  <tbody>\n",
       "    <tr>\n",
       "      <th>0</th>\n",
       "      <td>2539329</td>\n",
       "      <td>1</td>\n",
       "      <td>prior</td>\n",
       "      <td>1</td>\n",
       "      <td>2</td>\n",
       "      <td>8</td>\n",
       "      <td>0.0</td>\n",
       "    </tr>\n",
       "    <tr>\n",
       "      <th>1</th>\n",
       "      <td>2398795</td>\n",
       "      <td>1</td>\n",
       "      <td>prior</td>\n",
       "      <td>2</td>\n",
       "      <td>3</td>\n",
       "      <td>7</td>\n",
       "      <td>15.0</td>\n",
       "    </tr>\n",
       "  </tbody>\n",
       "</table>\n",
       "</div>"
      ],
      "text/plain": [
       "   order_id  user_id eval_set  order_number  order_dow  order_hour_of_day  \\\n",
       "0   2539329        1    prior             1          2                  8   \n",
       "1   2398795        1    prior             2          3                  7   \n",
       "\n",
       "   days_since_prior_order  \n",
       "0                     0.0  \n",
       "1                    15.0  "
      ]
     },
     "execution_count": 7,
     "metadata": {},
     "output_type": "execute_result"
    }
   ],
   "source": [
    "orders.fillna(0, inplace=True)\n",
    "orders[:2]"
   ]
  },
  {
   "cell_type": "code",
   "execution_count": 8,
   "metadata": {},
   "outputs": [
    {
     "data": {
      "text/plain": [
       "order_id                  3421083\n",
       "user_id                    206209\n",
       "eval_set                        3\n",
       "order_number                  100\n",
       "order_dow                       7\n",
       "order_hour_of_day              24\n",
       "days_since_prior_order         31\n",
       "dtype: int64"
      ]
     },
     "execution_count": 8,
     "metadata": {},
     "output_type": "execute_result"
    }
   ],
   "source": [
    "orders.nunique()"
   ]
  },
  {
   "cell_type": "code",
   "execution_count": 9,
   "metadata": {
    "collapsed": true
   },
   "outputs": [],
   "source": [
    "departments = pd.read_csv(dataDir  + 'departments.csv')"
   ]
  },
  {
   "cell_type": "code",
   "execution_count": 10,
   "metadata": {
    "collapsed": true
   },
   "outputs": [],
   "source": [
    "aisles = pd.read_csv(dataDir + 'aisles.csv')"
   ]
  },
  {
   "cell_type": "code",
   "execution_count": 11,
   "metadata": {},
   "outputs": [
    {
     "data": {
      "text/html": [
       "<div>\n",
       "<style scoped>\n",
       "    .dataframe tbody tr th:only-of-type {\n",
       "        vertical-align: middle;\n",
       "    }\n",
       "\n",
       "    .dataframe tbody tr th {\n",
       "        vertical-align: top;\n",
       "    }\n",
       "\n",
       "    .dataframe thead th {\n",
       "        text-align: right;\n",
       "    }\n",
       "</style>\n",
       "<table border=\"1\" class=\"dataframe\">\n",
       "  <thead>\n",
       "    <tr style=\"text-align: right;\">\n",
       "      <th></th>\n",
       "      <th>product_id</th>\n",
       "      <th>product_name</th>\n",
       "      <th>aisle_id</th>\n",
       "      <th>department_id</th>\n",
       "    </tr>\n",
       "  </thead>\n",
       "  <tbody>\n",
       "    <tr>\n",
       "      <th>0</th>\n",
       "      <td>1</td>\n",
       "      <td>Chocolate Sandwich Cookies</td>\n",
       "      <td>61</td>\n",
       "      <td>19</td>\n",
       "    </tr>\n",
       "  </tbody>\n",
       "</table>\n",
       "</div>"
      ],
      "text/plain": [
       "   product_id                product_name  aisle_id  department_id\n",
       "0           1  Chocolate Sandwich Cookies        61             19"
      ]
     },
     "execution_count": 11,
     "metadata": {},
     "output_type": "execute_result"
    }
   ],
   "source": [
    "products = pd.read_csv(dataDir + 'products.csv')\n",
    "products[:1]"
   ]
  },
  {
   "cell_type": "markdown",
   "metadata": {},
   "source": [
    "### Product level feature engineering\n",
    "- **product_num_orders :** total number of orders per product\n",
    "- **reorders :** total number of reorders per product\n",
    "- **reordered_rate :** product reordered rate\n",
    "- **Add to cart order stats:** mean,median,min,max,std,sum stats for add_to_cart_order per product"
   ]
  },
  {
   "cell_type": "code",
   "execution_count": 12,
   "metadata": {
    "collapsed": true
   },
   "outputs": [],
   "source": [
    "##product feature engineering\n",
    "prods = pd.DataFrame()\n",
    "prods['product_num_orders'] = prior_train.groupby('product_id').size().astype(np.int16)\n",
    "prods['reorders'] = prior_train.groupby('product_id')['reordered'].sum().astype(np.float32)\n",
    "prods['reordered_rate'] = prods['reorders']/prods['product_num_orders'].astype(np.float32)\n",
    "prods['mean_pos_in_cart'] = prior_train.groupby('product_id')['add_to_cart_order'].mean().astype(np.float32)\n",
    "prods['min_pos_in_cart'] = prior_train.groupby('product_id')['add_to_cart_order'].min().astype(np.int32)\n",
    "prods['max_pos_in_cart'] = prior_train.groupby('product_id')['add_to_cart_order'].max().astype(np.int32)\n",
    "prods['std_pos_in_cart'] = prior_train.groupby('product_id')['add_to_cart_order'].std().astype(np.float32)\n",
    "prods['sum_pos_in_cart'] = prior_train.groupby('product_id')['add_to_cart_order'].sum().astype(np.int32)\n",
    "prods = prods.reset_index()"
   ]
  },
  {
   "cell_type": "code",
   "execution_count": 13,
   "metadata": {},
   "outputs": [
    {
     "data": {
      "text/html": [
       "<div>\n",
       "<style scoped>\n",
       "    .dataframe tbody tr th:only-of-type {\n",
       "        vertical-align: middle;\n",
       "    }\n",
       "\n",
       "    .dataframe tbody tr th {\n",
       "        vertical-align: top;\n",
       "    }\n",
       "\n",
       "    .dataframe thead th {\n",
       "        text-align: right;\n",
       "    }\n",
       "</style>\n",
       "<table border=\"1\" class=\"dataframe\">\n",
       "  <thead>\n",
       "    <tr style=\"text-align: right;\">\n",
       "      <th></th>\n",
       "      <th>product_id</th>\n",
       "      <th>product_num_orders</th>\n",
       "      <th>reorders</th>\n",
       "      <th>reordered_rate</th>\n",
       "      <th>mean_pos_in_cart</th>\n",
       "      <th>min_pos_in_cart</th>\n",
       "      <th>max_pos_in_cart</th>\n",
       "      <th>std_pos_in_cart</th>\n",
       "      <th>sum_pos_in_cart</th>\n",
       "    </tr>\n",
       "  </thead>\n",
       "  <tbody>\n",
       "    <tr>\n",
       "      <th>0</th>\n",
       "      <td>1</td>\n",
       "      <td>1928</td>\n",
       "      <td>1185.0</td>\n",
       "      <td>0.614627</td>\n",
       "      <td>5.845954</td>\n",
       "      <td>1</td>\n",
       "      <td>74</td>\n",
       "      <td>5.648925</td>\n",
       "      <td>11271</td>\n",
       "    </tr>\n",
       "  </tbody>\n",
       "</table>\n",
       "</div>"
      ],
      "text/plain": [
       "   product_id  product_num_orders  reorders  reordered_rate  mean_pos_in_cart  \\\n",
       "0           1                1928    1185.0        0.614627          5.845954   \n",
       "\n",
       "   min_pos_in_cart  max_pos_in_cart  std_pos_in_cart  sum_pos_in_cart  \n",
       "0                1               74         5.648925            11271  "
      ]
     },
     "execution_count": 13,
     "metadata": {},
     "output_type": "execute_result"
    }
   ],
   "source": [
    "prods[:1]"
   ]
  },
  {
   "cell_type": "code",
   "execution_count": 14,
   "metadata": {},
   "outputs": [
    {
     "data": {
      "text/plain": [
       "33819106"
      ]
     },
     "execution_count": 14,
     "metadata": {},
     "output_type": "execute_result"
    }
   ],
   "source": [
    "\n",
    "prior_train_order = pd.merge(prior_train, orders, on='order_id', how = 'inner')\n",
    "len(prior_train_order)"
   ]
  },
  {
   "cell_type": "code",
   "execution_count": 15,
   "metadata": {
    "collapsed": true
   },
   "outputs": [
    {
     "data": {
      "text/plain": [
       "user_id\n",
       "1     51\n",
       "2    105\n",
       "3     55\n",
       "4      1\n",
       "5     18\n",
       "Name: reordered, dtype: int16"
      ]
     },
     "execution_count": 15,
     "metadata": {},
     "output_type": "execute_result"
    }
   ],
   "source": [
    "usr_reordered_cnt = prior_train_order.groupby('user_id')['reordered'].sum().astype(np.int16)\n",
    "usr_reordered_cnt[:5]"
   ]
  },
  {
   "cell_type": "markdown",
   "metadata": {},
   "source": [
    "### User level feature engineering\n",
    "- **u_num_orders:** Number of orders per user\n",
    "- **u_total_items:** Total number of items per user\n",
    "- **u_avg_basket_size:** Average basket size per user\n",
    "- **u_reordered_cnt:** Reorder count per user\n",
    "- **u_reordered_rate:** User reordered rate\n",
    "- **u_days_since_prior_order:** Days_since_prior_order stats: mean, median,min,max,std dev\n",
    "- **u_distinct_items_count:** Number of distinct items per user\n",
    "- **u_non_reordered_cnt:** Number of products that were not reordered per user\n",
    "- **u_organic_ratio:** Ratio of organic products purchased for each user"
   ]
  },
  {
   "cell_type": "code",
   "execution_count": 16,
   "metadata": {
    "collapsed": true
   },
   "outputs": [],
   "source": [
    "##user feature engineering\n",
    "user = pd.DataFrame()\n",
    "user['u_num_orders'] = orders.groupby('user_id').size().astype(np.int16)\n",
    "user['u_total_items'] = prior_train_order.groupby('user_id').size().astype(np.int16)\n",
    "user['u_avg_basket_size'] = user['u_total_items']/user['u_num_orders'].astype(np.float32)\n",
    "#basket size stats min, max, std\n",
    "user['u_reordered_cnt'] = prior_train_order.groupby('user_id')['reordered'].sum().astype(np.int16)\n",
    "user['u_reordered_rate'] = user['u_reordered_cnt']/user['u_total_items'].astype(np.float32)\n",
    "user['u_days_since_prior_order_mean'] = orders.groupby('user_id')['days_since_prior_order'].mean().astype(np.float32)\n",
    "user['u_days_since_prior_order_min'] = orders.groupby('user_id')['days_since_prior_order'].min().astype(np.int32)\n",
    "user['u_days_since_prior_order_max'] = orders.groupby('user_id')['days_since_prior_order'].max().astype(np.int32)\n",
    "user['u_days_since_prior_order_sd'] = orders.groupby('user_id')['days_since_prior_order'].std().astype(np.float32)\n",
    "user['u_distinct_items_cnt'] = prior_train_order.groupby('user_id')['product_id'].nunique().astype(np.int16)\n",
    "\n",
    "temp = pd.DataFrame()\n",
    "temp['u_product_reordered_cnt'] = prior_train_order.groupby(['user_id','product_id'])['reordered'].sum().astype(np.int16)\n",
    "temp['u_non_reordered_cnt'] = temp[temp.u_product_reordered_cnt==0].astype(np.int16)\n",
    "usr = temp.groupby('user_id').count().astype(np.int32)\n",
    "usr.drop('u_product_reordered_cnt',inplace=True, axis=1)\n",
    "\n",
    "user = user.join(usr)\n",
    "\n"
   ]
  },
  {
   "cell_type": "code",
   "execution_count": 17,
   "metadata": {
    "collapsed": true
   },
   "outputs": [],
   "source": [
    "#user.info()"
   ]
  },
  {
   "cell_type": "code",
   "execution_count": 18,
   "metadata": {
    "collapsed": true
   },
   "outputs": [],
   "source": [
    "products['isOrganic'] = products.product_name.map(lambda x: 'organic' in x.lower())*1"
   ]
  },
  {
   "cell_type": "code",
   "execution_count": 19,
   "metadata": {
    "collapsed": true
   },
   "outputs": [
    {
     "data": {
      "text/html": [
       "<div>\n",
       "<style scoped>\n",
       "    .dataframe tbody tr th:only-of-type {\n",
       "        vertical-align: middle;\n",
       "    }\n",
       "\n",
       "    .dataframe tbody tr th {\n",
       "        vertical-align: top;\n",
       "    }\n",
       "\n",
       "    .dataframe thead th {\n",
       "        text-align: right;\n",
       "    }\n",
       "</style>\n",
       "<table border=\"1\" class=\"dataframe\">\n",
       "  <thead>\n",
       "    <tr style=\"text-align: right;\">\n",
       "      <th></th>\n",
       "      <th>order_id</th>\n",
       "      <th>product_id</th>\n",
       "      <th>add_to_cart_order</th>\n",
       "      <th>reordered</th>\n",
       "      <th>user_id</th>\n",
       "      <th>eval_set</th>\n",
       "      <th>order_number</th>\n",
       "      <th>order_dow</th>\n",
       "      <th>order_hour_of_day</th>\n",
       "      <th>days_since_prior_order</th>\n",
       "      <th>product_name</th>\n",
       "      <th>aisle_id</th>\n",
       "      <th>department_id</th>\n",
       "      <th>isOrganic</th>\n",
       "      <th>department</th>\n",
       "      <th>aisle</th>\n",
       "    </tr>\n",
       "  </thead>\n",
       "  <tbody>\n",
       "    <tr>\n",
       "      <th>0</th>\n",
       "      <td>2</td>\n",
       "      <td>33120</td>\n",
       "      <td>1</td>\n",
       "      <td>1</td>\n",
       "      <td>202279</td>\n",
       "      <td>prior</td>\n",
       "      <td>3</td>\n",
       "      <td>5</td>\n",
       "      <td>9</td>\n",
       "      <td>8.0</td>\n",
       "      <td>Organic Egg Whites</td>\n",
       "      <td>86</td>\n",
       "      <td>16</td>\n",
       "      <td>1</td>\n",
       "      <td>dairy eggs</td>\n",
       "      <td>eggs</td>\n",
       "    </tr>\n",
       "  </tbody>\n",
       "</table>\n",
       "</div>"
      ],
      "text/plain": [
       "   order_id  product_id  add_to_cart_order  reordered  user_id eval_set  \\\n",
       "0         2       33120                  1          1   202279    prior   \n",
       "\n",
       "   order_number  order_dow  order_hour_of_day  days_since_prior_order  \\\n",
       "0             3          5                  9                     8.0   \n",
       "\n",
       "         product_name  aisle_id  department_id  isOrganic  department aisle  \n",
       "0  Organic Egg Whites        86             16          1  dairy eggs  eggs  "
      ]
     },
     "execution_count": 19,
     "metadata": {},
     "output_type": "execute_result"
    }
   ],
   "source": [
    "merged_products_temp = pd.merge(products, departments, on='department_id', how = 'inner')\n",
    "merged_products = pd.merge(merged_products_temp, aisles, on='aisle_id', how = 'inner')\n",
    "merged_all = pd.merge(prior_train_order, merged_products, on='product_id', how='inner')\n",
    "merged_all[:1]"
   ]
  },
  {
   "cell_type": "code",
   "execution_count": 20,
   "metadata": {
    "collapsed": true
   },
   "outputs": [],
   "source": [
    "\n",
    "user['u_organic_ratio'] = merged_all.groupby('user_id')['isOrganic'].mean().astype(np.float32)\n"
   ]
  },
  {
   "cell_type": "code",
   "execution_count": 21,
   "metadata": {},
   "outputs": [
    {
     "data": {
      "text/html": [
       "<div>\n",
       "<style scoped>\n",
       "    .dataframe tbody tr th:only-of-type {\n",
       "        vertical-align: middle;\n",
       "    }\n",
       "\n",
       "    .dataframe tbody tr th {\n",
       "        vertical-align: top;\n",
       "    }\n",
       "\n",
       "    .dataframe thead th {\n",
       "        text-align: right;\n",
       "    }\n",
       "</style>\n",
       "<table border=\"1\" class=\"dataframe\">\n",
       "  <thead>\n",
       "    <tr style=\"text-align: right;\">\n",
       "      <th></th>\n",
       "      <th>u_num_orders</th>\n",
       "      <th>u_total_items</th>\n",
       "      <th>u_avg_basket_size</th>\n",
       "      <th>u_reordered_cnt</th>\n",
       "      <th>u_reordered_rate</th>\n",
       "      <th>u_days_since_prior_order_mean</th>\n",
       "      <th>u_days_since_prior_order_min</th>\n",
       "      <th>u_days_since_prior_order_max</th>\n",
       "      <th>u_days_since_prior_order_sd</th>\n",
       "      <th>u_distinct_items_cnt</th>\n",
       "      <th>u_non_reordered_cnt</th>\n",
       "      <th>u_organic_ratio</th>\n",
       "    </tr>\n",
       "    <tr>\n",
       "      <th>user_id</th>\n",
       "      <th></th>\n",
       "      <th></th>\n",
       "      <th></th>\n",
       "      <th></th>\n",
       "      <th></th>\n",
       "      <th></th>\n",
       "      <th></th>\n",
       "      <th></th>\n",
       "      <th></th>\n",
       "      <th></th>\n",
       "      <th></th>\n",
       "      <th></th>\n",
       "    </tr>\n",
       "  </thead>\n",
       "  <tbody>\n",
       "    <tr>\n",
       "      <th>1</th>\n",
       "      <td>11</td>\n",
       "      <td>70</td>\n",
       "      <td>6.363636</td>\n",
       "      <td>51</td>\n",
       "      <td>0.728571</td>\n",
       "      <td>17.272728</td>\n",
       "      <td>0</td>\n",
       "      <td>30</td>\n",
       "      <td>10.306221</td>\n",
       "      <td>19</td>\n",
       "      <td>7</td>\n",
       "      <td>0.257143</td>\n",
       "    </tr>\n",
       "    <tr>\n",
       "      <th>2</th>\n",
       "      <td>15</td>\n",
       "      <td>226</td>\n",
       "      <td>15.066667</td>\n",
       "      <td>105</td>\n",
       "      <td>0.464602</td>\n",
       "      <td>15.200000</td>\n",
       "      <td>0</td>\n",
       "      <td>30</td>\n",
       "      <td>10.751744</td>\n",
       "      <td>121</td>\n",
       "      <td>79</td>\n",
       "      <td>0.247788</td>\n",
       "    </tr>\n",
       "    <tr>\n",
       "      <th>3</th>\n",
       "      <td>13</td>\n",
       "      <td>88</td>\n",
       "      <td>6.769231</td>\n",
       "      <td>55</td>\n",
       "      <td>0.625000</td>\n",
       "      <td>11.076923</td>\n",
       "      <td>0</td>\n",
       "      <td>21</td>\n",
       "      <td>5.936631</td>\n",
       "      <td>33</td>\n",
       "      <td>14</td>\n",
       "      <td>0.340909</td>\n",
       "    </tr>\n",
       "    <tr>\n",
       "      <th>4</th>\n",
       "      <td>6</td>\n",
       "      <td>18</td>\n",
       "      <td>3.000000</td>\n",
       "      <td>1</td>\n",
       "      <td>0.055556</td>\n",
       "      <td>14.166667</td>\n",
       "      <td>0</td>\n",
       "      <td>30</td>\n",
       "      <td>12.023588</td>\n",
       "      <td>17</td>\n",
       "      <td>16</td>\n",
       "      <td>0.111111</td>\n",
       "    </tr>\n",
       "    <tr>\n",
       "      <th>5</th>\n",
       "      <td>5</td>\n",
       "      <td>46</td>\n",
       "      <td>9.200000</td>\n",
       "      <td>18</td>\n",
       "      <td>0.391304</td>\n",
       "      <td>9.200000</td>\n",
       "      <td>0</td>\n",
       "      <td>19</td>\n",
       "      <td>6.978539</td>\n",
       "      <td>28</td>\n",
       "      <td>18</td>\n",
       "      <td>0.500000</td>\n",
       "    </tr>\n",
       "  </tbody>\n",
       "</table>\n",
       "</div>"
      ],
      "text/plain": [
       "         u_num_orders  u_total_items  u_avg_basket_size  u_reordered_cnt  \\\n",
       "user_id                                                                    \n",
       "1                  11             70           6.363636               51   \n",
       "2                  15            226          15.066667              105   \n",
       "3                  13             88           6.769231               55   \n",
       "4                   6             18           3.000000                1   \n",
       "5                   5             46           9.200000               18   \n",
       "\n",
       "         u_reordered_rate  u_days_since_prior_order_mean  \\\n",
       "user_id                                                    \n",
       "1                0.728571                      17.272728   \n",
       "2                0.464602                      15.200000   \n",
       "3                0.625000                      11.076923   \n",
       "4                0.055556                      14.166667   \n",
       "5                0.391304                       9.200000   \n",
       "\n",
       "         u_days_since_prior_order_min  u_days_since_prior_order_max  \\\n",
       "user_id                                                               \n",
       "1                                   0                            30   \n",
       "2                                   0                            30   \n",
       "3                                   0                            21   \n",
       "4                                   0                            30   \n",
       "5                                   0                            19   \n",
       "\n",
       "         u_days_since_prior_order_sd  u_distinct_items_cnt  \\\n",
       "user_id                                                      \n",
       "1                          10.306221                    19   \n",
       "2                          10.751744                   121   \n",
       "3                           5.936631                    33   \n",
       "4                          12.023588                    17   \n",
       "5                           6.978539                    28   \n",
       "\n",
       "         u_non_reordered_cnt  u_organic_ratio  \n",
       "user_id                                        \n",
       "1                          7         0.257143  \n",
       "2                         79         0.247788  \n",
       "3                         14         0.340909  \n",
       "4                         16         0.111111  \n",
       "5                         18         0.500000  "
      ]
     },
     "execution_count": 21,
     "metadata": {},
     "output_type": "execute_result"
    }
   ],
   "source": [
    "user[:5]\n"
   ]
  },
  {
   "cell_type": "markdown",
   "metadata": {},
   "source": [
    "### User_Product feature engineering\n",
    "- **up_product_count:** number of times each product was ordered by user\n",
    "- **up_product_purchase_rate:** rate at which each product was ordered for the user\n",
    "- **up_product_reorder_count:** number of times each product was ordered for each user\n",
    "- **up_product_last_order_num:** the order number when the product was ordered last\n",
    "- **up_product_order_num_diff:** how many times has the product been skipped since the last order\n",
    "- **up_add_to_cart_order:** add_to_cart_order stats per product per user (mean, median, min, max, std dev, sum)\n",
    "- **up_reorder_probability:** each product's reorder probability per user"
   ]
  },
  {
   "cell_type": "code",
   "execution_count": 22,
   "metadata": {
    "collapsed": true
   },
   "outputs": [],
   "source": [
    "user_product = pd.DataFrame()\n",
    "user_product['up_product_count'] = merged_all.groupby(['user_id','product_id']).size().astype(np.int16)\n",
    "user_product['up_product_purchase_rate'] = user_product['up_product_count']/user['u_num_orders'].astype(np.float32)\n",
    "user_product['up_product_reorder_count'] = merged_all.groupby(['user_id','product_id'])['reordered'].sum().astype(np.int16)\n",
    "\n"
   ]
  },
  {
   "cell_type": "code",
   "execution_count": 23,
   "metadata": {
    "collapsed": true
   },
   "outputs": [],
   "source": [
    "user_product['up_product_last_order_num'] = merged_all.groupby(['user_id','product_id'])['order_number'].max().astype(np.int16)\n",
    "user_product['up_product_order_num_diff'] = user['u_num_orders'] - user_product['up_product_last_order_num'].astype(np.int16)\n",
    "user_product['up_add_to_cart_order_mean'] = merged_all.groupby(['user_id','product_id'])['add_to_cart_order'].mean().astype(np.float16)\n",
    "user_product['up_add_to_cart_order_min'] = merged_all.groupby(['user_id','product_id'])['add_to_cart_order'].min().astype(np.int16)\n",
    "user_product['up_add_to_cart_order_max'] = merged_all.groupby(['user_id','product_id'])['add_to_cart_order'].max().astype(np.int16)\n",
    "user_product['up_add_to_cart_order_sd'] = merged_all.groupby(['user_id','product_id'])['add_to_cart_order'].std().astype(np.float16)\n",
    "user_product['up_add_to_cart_order_sum'] = merged_all.groupby(['user_id','product_id'])['add_to_cart_order'].sum().astype(np.int16)\n"
   ]
  },
  {
   "cell_type": "code",
   "execution_count": 24,
   "metadata": {
    "collapsed": true
   },
   "outputs": [],
   "source": [
    "#not sure if I should do this\n",
    "usr1 = pd.DataFrame()\n",
    "usr1['max_purchase_rate'] = user_product.groupby('user_id', as_index=True)['up_product_purchase_rate'].max().astype(np.float32)\n",
    "user_product['up_reorder_probability'] = user_product['up_product_purchase_rate']/usr1['max_purchase_rate'].astype(np.float32)\n"
   ]
  },
  {
   "cell_type": "code",
   "execution_count": 25,
   "metadata": {
    "collapsed": true
   },
   "outputs": [],
   "source": [
    "user = user.reset_index()\n",
    "prods = prods.reset_index()\n",
    "user_product = user_product.reset_index()"
   ]
  },
  {
   "cell_type": "markdown",
   "metadata": {},
   "source": [
    "# SOLUTION 1"
   ]
  },
  {
   "cell_type": "code",
   "execution_count": 26,
   "metadata": {},
   "outputs": [
    {
     "name": "stdout",
     "output_type": "stream",
     "text": [
      "<class 'pandas.core.frame.DataFrame'>\n",
      "Int64Index: 206209 entries, 1 to 206209\n",
      "Data columns (total 1 columns):\n",
      "all_products    206209 non-null object\n",
      "dtypes: object(1)\n",
      "memory usage: 3.1+ MB\n"
     ]
    }
   ],
   "source": [
    "user_product_list=pd.DataFrame()\n",
    "user_product_list['all_products'] = user_product.groupby('user_id')['product_id'].apply(set)\n",
    "#user_product_list=user_product_list.reset_index()\n",
    "user_product_list.info()"
   ]
  },
  {
   "cell_type": "code",
   "execution_count": 27,
   "metadata": {},
   "outputs": [],
   "source": [
    "orders_train = orders[(orders.eval_set=='train')]\n",
    "orders_test = orders[orders.eval_set=='test']\n",
    "\n",
    "prior_train.set_index(['order_id','product_id'], inplace=True, drop=False)\n",
    "prior_train_index = set(prior_train.index)\n"
   ]
  },
  {
   "cell_type": "code",
   "execution_count": 28,
   "metadata": {},
   "outputs": [],
   "source": [
    "\n",
    "def construct_features(df, create_labels = False):\n",
    "    order_list = []\n",
    "    product_list = []\n",
    "    labels = []\n",
    "\n",
    "    for row in df.itertuples():   \n",
    "    \n",
    "        user_id = row.user_id\n",
    "        order_id = row.order_id\n",
    "    \n",
    "        user_prods = user_product_list['all_products'][user_id]\n",
    "        product_list += user_prods\n",
    "        order_list += [order_id]*len(user_prods)\n",
    "        if(create_labels):\n",
    "            labels += [(order_id, prod) in prior_train_index for prod in user_prods]\n",
    "    \n",
    "    \n",
    "    final_df = pd.DataFrame({'order_id':order_list, 'product_id':product_list, 'label':labels}, dtype=np.int32)\n",
    "    ##product feature engineering\n",
    "    \n",
    "    final_df['product_num_orders'] = final_df.product_id.map(prods.product_num_orders)\n",
    "    final_df['reorders'] = final_df.product_id.map(prods.reorders)\n",
    "    final_df['reordered_rate'] = final_df.product_id.map(prods.reordered_rate)\n",
    "    final_df['mean_pos_in_cart'] = final_df.product_id.map(prods.mean_pos_in_cart)\n",
    "    final_df['min_pos_in_cart'] = final_df.product_id.map(prods.min_pos_in_cart)\n",
    "    final_df['max_pos_in_cart'] = final_df.product_id.map(prods.max_pos_in_cart)\n",
    "    final_df['std_pos_in_cart'] = final_df.product_id.map(prods.std_pos_in_cart)\n",
    "    final_df['sum_pos_in_cart'] = final_df.product_id.map(prods.sum_pos_in_cart)\n",
    "    \n",
    "    \n",
    "    final_df['user_id'] = final_df.order_id.map(orders.user_id)\n",
    "    final_df['u_num_orders'] = final_df.user_id.map(user.u_num_orders)\n",
    "    final_df['u_total_items'] = final_df.user_id.map(user.u_total_items)\n",
    "    final_df['u_avg_basket_size'] = final_df.user_id.map(user.u_avg_basket_size)\n",
    "    final_df['u_reordered_cnt'] = final_df.user_id.map(user.u_reordered_cnt)\n",
    "    final_df['u_reordered_rate'] = final_df.user_id.map(user.u_reordered_rate)\n",
    "    final_df['u_days_since_prior_order_mean'] = final_df.user_id.map(user.u_days_since_prior_order_mean)\n",
    "    final_df['u_days_since_prior_order_min'] = final_df.user_id.map(user.u_days_since_prior_order_min)\n",
    "    final_df['u_days_since_prior_order_max'] = final_df.user_id.map(user.u_days_since_prior_order_max)\n",
    "    final_df['u_days_since_prior_order_sd'] = final_df.user_id.map(user.u_days_since_prior_order_sd)\n",
    "    final_df['u_distinct_items_cnt'] = final_df.user_id.map(user.u_distinct_items_cnt)\n",
    "    final_df['u_organic_ratio'] = final_df.user_id.map(user.u_organic_ratio)\n",
    "    final_df['u_non_reordered_cnt'] = final_df.user_id.map(user.u_non_reordered_cnt)\n",
    "        \n",
    "    return final_df"
   ]
  },
  {
   "cell_type": "code",
   "execution_count": 29,
   "metadata": {},
   "outputs": [],
   "source": [
    "train_df = construct_features(orders_train, create_labels = True)"
   ]
  },
  {
   "cell_type": "code",
   "execution_count": 30,
   "metadata": {},
   "outputs": [
    {
     "data": {
      "text/plain": [
       "(9030454, 24)"
      ]
     },
     "execution_count": 30,
     "metadata": {},
     "output_type": "execute_result"
    }
   ],
   "source": [
    "train_df.shape()\n"
   ]
  },
  {
   "cell_type": "code",
   "execution_count": 31,
   "metadata": {},
   "outputs": [
    {
     "data": {
      "text/html": [
       "<div>\n",
       "<style scoped>\n",
       "    .dataframe tbody tr th:only-of-type {\n",
       "        vertical-align: middle;\n",
       "    }\n",
       "\n",
       "    .dataframe tbody tr th {\n",
       "        vertical-align: top;\n",
       "    }\n",
       "\n",
       "    .dataframe thead th {\n",
       "        text-align: right;\n",
       "    }\n",
       "</style>\n",
       "<table border=\"1\" class=\"dataframe\">\n",
       "  <thead>\n",
       "    <tr style=\"text-align: right;\">\n",
       "      <th></th>\n",
       "      <th>order_id</th>\n",
       "      <th>product_id</th>\n",
       "      <th>label</th>\n",
       "      <th>product_num_orders</th>\n",
       "      <th>reorders</th>\n",
       "      <th>reordered_rate</th>\n",
       "      <th>mean_pos_in_cart</th>\n",
       "      <th>min_pos_in_cart</th>\n",
       "      <th>max_pos_in_cart</th>\n",
       "      <th>std_pos_in_cart</th>\n",
       "      <th>...</th>\n",
       "      <th>u_avg_basket_size</th>\n",
       "      <th>u_reordered_cnt</th>\n",
       "      <th>u_reordered_rate</th>\n",
       "      <th>u_days_since_prior_order_mean</th>\n",
       "      <th>u_days_since_prior_order_min</th>\n",
       "      <th>u_days_since_prior_order_max</th>\n",
       "      <th>u_days_since_prior_order_sd</th>\n",
       "      <th>u_distinct_items_cnt</th>\n",
       "      <th>u_organic_ratio</th>\n",
       "      <th>u_non_reordered_cnt</th>\n",
       "    </tr>\n",
       "  </thead>\n",
       "  <tbody>\n",
       "    <tr>\n",
       "      <th>0</th>\n",
       "      <td>1187899</td>\n",
       "      <td>17122</td>\n",
       "      <td>0</td>\n",
       "      <td>114.0</td>\n",
       "      <td>49.0</td>\n",
       "      <td>0.429825</td>\n",
       "      <td>8.929825</td>\n",
       "      <td>1.0</td>\n",
       "      <td>33.0</td>\n",
       "      <td>6.646204</td>\n",
       "      <td>...</td>\n",
       "      <td>11.782609</td>\n",
       "      <td>188.0</td>\n",
       "      <td>0.693727</td>\n",
       "      <td>8.304348</td>\n",
       "      <td>0.0</td>\n",
       "      <td>30.0</td>\n",
       "      <td>6.858537</td>\n",
       "      <td>83.0</td>\n",
       "      <td>0.391144</td>\n",
       "      <td>36.0</td>\n",
       "    </tr>\n",
       "  </tbody>\n",
       "</table>\n",
       "<p>1 rows × 24 columns</p>\n",
       "</div>"
      ],
      "text/plain": [
       "   order_id  product_id  label  product_num_orders  reorders  reordered_rate  \\\n",
       "0   1187899       17122      0               114.0      49.0        0.429825   \n",
       "\n",
       "   mean_pos_in_cart  min_pos_in_cart  max_pos_in_cart  std_pos_in_cart  \\\n",
       "0          8.929825              1.0             33.0         6.646204   \n",
       "\n",
       "          ...           u_avg_basket_size  u_reordered_cnt  u_reordered_rate  \\\n",
       "0         ...                   11.782609            188.0          0.693727   \n",
       "\n",
       "   u_days_since_prior_order_mean  u_days_since_prior_order_min  \\\n",
       "0                       8.304348                           0.0   \n",
       "\n",
       "   u_days_since_prior_order_max  u_days_since_prior_order_sd  \\\n",
       "0                          30.0                     6.858537   \n",
       "\n",
       "   u_distinct_items_cnt  u_organic_ratio  u_non_reordered_cnt  \n",
       "0                  83.0         0.391144                 36.0  \n",
       "\n",
       "[1 rows x 24 columns]"
      ]
     },
     "execution_count": 31,
     "metadata": {},
     "output_type": "execute_result"
    }
   ],
   "source": [
    "train_df[:1]"
   ]
  },
  {
   "cell_type": "code",
   "execution_count": null,
   "metadata": {},
   "outputs": [],
   "source": []
  }
 ],
 "metadata": {
  "kernelspec": {
   "display_name": "Python 3",
   "language": "python",
   "name": "python3"
  },
  "language_info": {
   "codemirror_mode": {
    "name": "ipython",
    "version": 3
   },
   "file_extension": ".py",
   "mimetype": "text/x-python",
   "name": "python",
   "nbconvert_exporter": "python",
   "pygments_lexer": "ipython3",
   "version": "3.6.5"
  }
 },
 "nbformat": 4,
 "nbformat_minor": 2
}
